{
 "cells": [
  {
   "cell_type": "code",
   "execution_count": 1,
   "id": "d8b68e32",
   "metadata": {},
   "outputs": [
    {
     "name": "stderr",
     "output_type": "stream",
     "text": [
      "2023-04-23 22:13:08.927729: I tensorflow/tsl/cuda/cudart_stub.cc:28] Could not find cuda drivers on your machine, GPU will not be used.\n",
      "2023-04-23 22:13:08.956285: I tensorflow/tsl/cuda/cudart_stub.cc:28] Could not find cuda drivers on your machine, GPU will not be used.\n",
      "2023-04-23 22:13:08.956999: I tensorflow/core/platform/cpu_feature_guard.cc:182] This TensorFlow binary is optimized to use available CPU instructions in performance-critical operations.\n",
      "To enable the following instructions: AVX2 FMA, in other operations, rebuild TensorFlow with the appropriate compiler flags.\n",
      "2023-04-23 22:13:09.474416: W tensorflow/compiler/tf2tensorrt/utils/py_utils.cc:38] TF-TRT Warning: Could not find TensorRT\n"
     ]
    }
   ],
   "source": [
    "import tensorflow as tf\n",
    "import tensorflow_federated as tff\n",
    "\n",
    "import numpy as np\n",
    "import pandas as pd\n",
    "import matplotlib.pyplot as plt"
   ]
  },
  {
   "cell_type": "code",
   "execution_count": 2,
   "id": "3e96dd34",
   "metadata": {},
   "outputs": [],
   "source": [
    "import collections\n",
    "import time\n",
    "from tqdm import tqdm\n",
    "\n",
    "import seaborn as sns\n",
    "from sklearn.utils import shuffle\n",
    "from sklearn.preprocessing import StandardScaler, LabelEncoder\n",
    "from sklearn.model_selection import train_test_split\n",
    "from sklearn.externals.joblib import dump, load"
   ]
  },
  {
   "cell_type": "code",
   "execution_count": 3,
   "id": "c195a027",
   "metadata": {},
   "outputs": [],
   "source": [
    "NB_CLIENTS = 9\n",
    "TEST_CLIENT = None\n",
    "DATA_PATH_PATTERN = \"../data/Device #%d.csv\"\n",
    "WHOLE_CLASSES = ['benign', 'm_scan', 'm_ack', 'm_syn', 'm_udp', 'm_udpplain', 'g_combo', 'g_junk', 'g_scan', 'g_tcp', 'g_udp']\n",
    "BINARY_MODE = False\n",
    "BATCH_SIZE = 64\n",
    "NB_CLASSES = len(WHOLE_CLASSES)\n",
    "NB_EPOCHES = 1\n",
    "NB_ROUNDS = 10\n",
    "MX_RECORDS = 200000"
   ]
  },
  {
   "cell_type": "code",
   "execution_count": 4,
   "id": "415057e5",
   "metadata": {},
   "outputs": [],
   "source": [
    "def preprocessor(_client_data: pd.DataFrame):\n",
    "    cropped_data = shuffle(_client_data)\n",
    "    \n",
    "    def callback(row):\n",
    "        pass\n",
    "    \n",
    "    _x = cropped_data.drop([\"type\"], axis=1)\n",
    "    _y = cropped_data[\"type\"]\n",
    "    if BINARY_MODE:\n",
    "        _y = (_y == \"benign\").astype(int)\n",
    "    return _x, _y"
   ]
  },
  {
   "cell_type": "code",
   "execution_count": 5,
   "id": "8b5c46bc",
   "metadata": {},
   "outputs": [],
   "source": [
    "def create_model():\n",
    "    model = tf.keras.models.Sequential([\n",
    "        tf.keras.layers.Dense(64, input_dim = 116),\n",
    "        tf.keras.layers.GroupNormalization(),\n",
    "#         tf.keras.layers.BatchNormalization(synchronized=True, input_dim=116),\n",
    "#         tf.keras.layers.Dense(64, activation=\"relu\"),\n",
    "        tf.keras.layers.Dense(64),\n",
    "        tf.keras.layers.LeakyReLU(alpha=0.05),\n",
    "        tf.keras.layers.Dense(32),\n",
    "        tf.keras.layers.LeakyReLU(alpha=0.05),\n",
    "        tf.keras.layers.Dense(32),\n",
    "        tf.keras.layers.LeakyReLU(alpha=0.05),\n",
    "        tf.keras.layers.Dense(NB_CLASSES, activation = \"softmax\")\n",
    "    ])\n",
    "    return model"
   ]
  },
  {
   "cell_type": "code",
   "execution_count": 6,
   "id": "5ec1be14",
   "metadata": {},
   "outputs": [],
   "source": [
    "model = create_model()\n",
    "model.compile(tf.keras.optimizers.RMSprop(), 'categorical_crossentropy', metrics=['acc'])"
   ]
  },
  {
   "cell_type": "code",
   "execution_count": 7,
   "id": "be1a14a4",
   "metadata": {},
   "outputs": [],
   "source": [
    "train_data = pd.read_csv(DATA_PATH_PATTERN % 1)\n",
    "X, Y = preprocessor(train_data)\n",
    "\n",
    "for idx in range(2, 10):\n",
    "    _x, _y = preprocessor(pd.read_csv(DATA_PATH_PATTERN % idx))\n",
    "    X = pd.concat([X, _x])\n",
    "    Y = pd.concat([Y, _y])"
   ]
  },
  {
   "cell_type": "code",
   "execution_count": 8,
   "id": "d7240584",
   "metadata": {},
   "outputs": [],
   "source": [
    "x_train, x_test, y_train, y_test = train_test_split(X, Y, test_size = 0.2, random_state = 101)"
   ]
  },
  {
   "cell_type": "code",
   "execution_count": null,
   "id": "53cd252d",
   "metadata": {},
   "outputs": [
    {
     "name": "stderr",
     "output_type": "stream",
     "text": [
      "/opt/Anaconda310/lib/python3.10/site-packages/sklearn/base.py:413: UserWarning: X has feature names, but StandardScaler was fitted without feature names\n",
      "  warnings.warn(\n"
     ]
    }
   ],
   "source": [
    "#Use StandardScaler() to standardize data - explained in Honours Project\n",
    "sc = StandardScaler()\n",
    "sc.fit(np.array(x_train))\n",
    "x_train = sc.transform(x_train)\n",
    "x_test = sc.transform(x_test)\n",
    "\n",
    "le = LabelEncoder()\n",
    "le.fit(WHOLE_CLASSES)\n",
    "y_train = le.transform(y_train)\n",
    "y_train = tf.keras.utils.to_categorical(y_train)\n",
    "y_test = le.transform(y_test)\n",
    "y_test = tf.keras.utils.to_categorical(y_test)"
   ]
  },
  {
   "cell_type": "code",
   "execution_count": 10,
   "id": "1a70dc73",
   "metadata": {},
   "outputs": [
    {
     "name": "stderr",
     "output_type": "stream",
     "text": [
      "2023-04-23 21:57:46.253421: W tensorflow/tsl/framework/cpu_allocator_impl.cc:83] Allocation of 2459720144 exceeds 10% of free system memory.\n"
     ]
    },
    {
     "name": "stdout",
     "output_type": "stream",
     "text": [
      "Epoch 1/5\n",
      "165661/165661 [==============================] - 142s 838us/step - loss: 0.1360 - acc: 0.9435 - val_loss: 0.1339 - val_acc: 0.9497\n",
      "Epoch 2/5\n",
      "165661/165661 [==============================] - 139s 841us/step - loss: 0.1213 - acc: 0.9527 - val_loss: 0.0926 - val_acc: 0.9664\n",
      "Epoch 3/5\n",
      "165661/165661 [==============================] - 138s 836us/step - loss: 0.1158 - acc: 0.9579 - val_loss: 0.1523 - val_acc: 0.9551\n",
      "Epoch 4/5\n",
      "165661/165661 [==============================] - 140s 846us/step - loss: 0.1138 - acc: 0.9601 - val_loss: 0.1164 - val_acc: 0.9573\n",
      "Epoch 5/5\n",
      "165661/165661 [==============================] - 140s 848us/step - loss: 0.1195 - acc: 0.9611 - val_loss: 0.1123 - val_acc: 0.9573\n"
     ]
    }
   ],
   "source": [
    "history = model.fit(x_train, y_train, validation_data=(x_test, y_test), epochs=5)"
   ]
  },
  {
   "cell_type": "code",
   "execution_count": 11,
   "id": "79c38bd5",
   "metadata": {},
   "outputs": [
    {
     "name": "stdout",
     "output_type": "stream",
     "text": [
      "41416/41416 [==============================] - 20s 473us/step\n"
     ]
    }
   ],
   "source": [
    "y_pred = model.predict(x_test)\n",
    "roc_matrix = np.zeros([NB_CLASSES, NB_CLASSES])\n",
    "\n",
    "for corr, pred in zip(y_test, y_pred):\n",
    "    corr_idx = np.argmax(corr)\n",
    "    pred_idx = np.argmax(pred)\n",
    "    roc_matrix[pred_idx][corr_idx] += 1"
   ]
  },
  {
   "cell_type": "code",
   "execution_count": 12,
   "id": "b80224f5",
   "metadata": {},
   "outputs": [
    {
     "data": {
      "text/plain": [
       "<Axes: >"
      ]
     },
     "execution_count": 12,
     "metadata": {},
     "output_type": "execute_result"
    },
    {
     "data": {
      "image/png": "[encoded data removed]",
      "text/plain": [
       "<Figure size 640x480 with 2 Axes>"
      ]
     },
     "metadata": {},
     "output_type": "display_data"
    }
   ],
   "source": [
    "plt.figure()\n",
    "sns.heatmap(roc_matrix)"
   ]
  },
  {
   "cell_type": "code",
   "execution_count": null,
   "id": "5c49f73f",
   "metadata": {},
   "outputs": [],
   "source": [
    "model.save_weights(\"../models/dl.h5\")"
   ]
  },
  {
   "cell_type": "code",
   "execution_count": null,
   "id": "e18f4ae1",
   "metadata": {},
   "outputs": [],
   "source": [
    "dump(sc, '../models/std_scaler.bin', compress=True)\n",
    "dump(le, '../models/lab_encoder.bin', compress=True)"
   ]
  }
 ],
 "metadata": {
  "kernelspec": {
   "display_name": "Python 3 (ipykernel)",
   "language": "python",
   "name": "python3"
  },
  "language_info": {
   "codemirror_mode": {
    "name": "ipython",
    "version": 3
   },
   "file_extension": ".py",
   "mimetype": "text/x-python",
   "name": "python",
   "nbconvert_exporter": "python",
   "pygments_lexer": "ipython3",
   "version": "3.10.9"
  }
 },
 "nbformat": 4,
 "nbformat_minor": 5
}
