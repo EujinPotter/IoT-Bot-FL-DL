{
 "cells": [
  {
   "cell_type": "code",
   "execution_count": 1,
   "id": "cae0993d",
   "metadata": {},
   "outputs": [
    {
     "name": "stderr",
     "output_type": "stream",
     "text": [
      "2023-04-23 22:33:56.080448: I tensorflow/tsl/cuda/cudart_stub.cc:28] Could not find cuda drivers on your machine, GPU will not be used.\n",
      "2023-04-23 22:33:56.374837: I tensorflow/tsl/cuda/cudart_stub.cc:28] Could not find cuda drivers on your machine, GPU will not be used.\n",
      "2023-04-23 22:33:56.375205: I tensorflow/core/platform/cpu_feature_guard.cc:182] This TensorFlow binary is optimized to use available CPU instructions in performance-critical operations.\n",
      "To enable the following instructions: AVX2 FMA, in other operations, rebuild TensorFlow with the appropriate compiler flags.\n",
      "2023-04-23 22:34:00.250024: W tensorflow/compiler/tf2tensorrt/utils/py_utils.cc:38] TF-TRT Warning: Could not find TensorRT\n"
     ]
    }
   ],
   "source": [
    "import tensorflow as tf"
   ]
  },
  {
   "cell_type": "code",
   "execution_count": 2,
   "id": "515a98cf",
   "metadata": {},
   "outputs": [],
   "source": [
    "import numpy as np\n",
    "import pandas as pd\n",
    "from sklearn.utils import shuffle\n",
    "from sklearn.preprocessing import StandardScaler, LabelEncoder\n",
    "from joblib import dump, load"
   ]
  },
  {
   "cell_type": "code",
   "execution_count": 3,
   "id": "98d67384",
   "metadata": {},
   "outputs": [],
   "source": [
    "NB_CLIENTS = 9\n",
    "TEST_CLIENT = None\n",
    "\n",
    "DATA_PATH_PATTERN = \"../data/Device #%d.csv\"\n",
    "PRETRAINED_MODEL = \"../models/dl.h5\"\n",
    "\n",
    "WHOLE_CLASSES = ['benign', 'm_scan', 'm_ack', 'm_syn', 'm_udp', 'm_udpplain', 'g_combo', 'g_junk', 'g_scan', 'g_tcp', 'g_udp']\n",
    "BINARY_MODE = False\n",
    "BATCH_SIZE = 64\n",
    "NB_CLASSES = len(WHOLE_CLASSES)\n",
    "NB_EPOCHES = 1\n",
    "NB_ROUNDS = 100\n",
    "MX_RECORDS = 100000"
   ]
  },
  {
   "cell_type": "code",
   "execution_count": 4,
   "id": "6c5887ba",
   "metadata": {},
   "outputs": [
    {
     "ename": "TypeError",
     "evalue": "load() got an unexpected keyword argument 'compress'",
     "output_type": "error",
     "traceback": [
      "\u001b[0;31m---------------------------------------------------------------------------\u001b[0m",
      "\u001b[0;31mTypeError\u001b[0m                                 Traceback (most recent call last)",
      "Cell \u001b[0;32mIn[4], line 3\u001b[0m\n\u001b[1;32m      1\u001b[0m \u001b[38;5;28;01mglobal\u001b[39;00m le, sc\n\u001b[0;32m----> 3\u001b[0m sc \u001b[38;5;241m=\u001b[39m \u001b[43mload\u001b[49m\u001b[43m(\u001b[49m\u001b[38;5;124;43m'\u001b[39;49m\u001b[38;5;124;43m../models/std_scaler.bin\u001b[39;49m\u001b[38;5;124;43m'\u001b[39;49m\u001b[43m,\u001b[49m\u001b[43m \u001b[49m\u001b[43mcompress\u001b[49m\u001b[38;5;241;43m=\u001b[39;49m\u001b[38;5;28;43;01mTrue\u001b[39;49;00m\u001b[43m)\u001b[49m\n\u001b[1;32m      4\u001b[0m le \u001b[38;5;241m=\u001b[39m load(\u001b[38;5;124m'\u001b[39m\u001b[38;5;124m../models/lab_encoder.bin\u001b[39m\u001b[38;5;124m'\u001b[39m, compress\u001b[38;5;241m=\u001b[39m\u001b[38;5;28;01mTrue\u001b[39;00m)\n\u001b[1;32m      7\u001b[0m \u001b[38;5;28;01mdef\u001b[39;00m \u001b[38;5;21mpreprocessor\u001b[39m(_client_data: pd\u001b[38;5;241m.\u001b[39mDataFrame):\n",
      "\u001b[0;31mTypeError\u001b[0m: load() got an unexpected keyword argument 'compress'"
     ]
    }
   ],
   "source": [
    "global le, sc\n",
    "\n",
    "sc = load('../models/std_scaler.bin')\n",
    "le = load('../models/lab_encoder.bin')\n",
    "\n",
    "\n",
    "def preprocessor(_client_data: pd.DataFrame):\n",
    "    global sc, le\n",
    "    _client_data = shuffle(_client_data)\n",
    "    _x = _client_data.drop([\"type\"], axis=1)\n",
    "    _y = _client_data[\"type\"]\n",
    "    _x = sc.transform(x_train)\n",
    "    \n",
    "    if BINARY_MODE:\n",
    "        _y = (_y == \"benign\").astype(int)\n",
    "    else:\n",
    "        _y = le.transform(_y)\n",
    "        _y = tf.keras.utils.to_categorical(_y, num_classes=NB_CLASSES)\n",
    "        \n",
    "    return _x, _y\n",
    "\n",
    "\n",
    "def make_dataset(_x, _y):\n",
    "    return tf.data.Dataset.from_tensor_slices(\n",
    "        collections.OrderedDict(\n",
    "            x=tf.constant(_x),\n",
    "            y=tf.constant(_y)\n",
    "        )\n",
    "    )\n",
    "\n",
    "\n",
    "def client_data(_x, _y):\n",
    "    _client_data = make_dataset(_x, _y)\n",
    "    return _client_data.shuffle(MX_RECORDS).batch(BATCH_SIZE).repeat(NB_EPOCHES)"
   ]
  },
  {
   "cell_type": "code",
   "execution_count": 5,
   "id": "7874cc9a",
   "metadata": {},
   "outputs": [],
   "source": [
    "def create_model():\n",
    "    model = tf.keras.models.Sequential([\n",
    "        tf.keras.layers.Dense(64, input_dim = 116),\n",
    "        tf.keras.layers.GroupNormalization(),\n",
    "#         tf.keras.layers.BatchNormalization(synchronized=True, input_dim=116),\n",
    "#         tf.keras.layers.Dense(64, activation=\"relu\"),\n",
    "        tf.keras.layers.Dense(64),\n",
    "        tf.keras.layers.LeakyReLU(alpha=0.05),\n",
    "        tf.keras.layers.Dense(32),\n",
    "        tf.keras.layers.LeakyReLU(alpha=0.05),\n",
    "        tf.keras.layers.Dense(32),\n",
    "        tf.keras.layers.LeakyReLU(alpha=0.05),\n",
    "        tf.keras.layers.Dense(NB_CLASSES, activation = \"softmax\")\n",
    "    ])\n",
    "    model.compile('rmsprop', 'categorical_crossentropy', metrics=['acc'])\n",
    "    model.load_weights(PRETRAINED_MODEL)\n",
    "    return model"
   ]
  },
  {
   "cell_type": "code",
   "execution_count": 6,
   "id": "460c6544",
   "metadata": {},
   "outputs": [],
   "source": [
    "model = create_model()"
   ]
  },
  {
   "cell_type": "code",
   "execution_count": null,
   "id": "d9817e8b",
   "metadata": {},
   "outputs": [
    {
     "name": "stdout",
     "output_type": "stream",
     "text": [
      "31822/31822 [==============================] - 17s 537us/step - loss: 162.3635 - acc: 0.0997\n",
      "[162.36349487304688, 0.09966827183961868]\n",
      "26122/26122 [==============================] - 14s 546us/step - loss: 181.1299 - acc: 0.0783\n",
      "[181.12985229492188, 0.07833697646856308]\n",
      "11110/11110 [==============================] - 6s 568us/step - loss: 121.7949 - acc: 0.0573\n",
      "[121.79486083984375, 0.057319268584251404]\n",
      "34334/34334 [==============================] - 19s 552us/step - loss: 162.3065 - acc: 0.0865\n",
      "[162.30650329589844, 0.08649767190217972]\n"
     ]
    }
   ],
   "source": [
    "raw_clients_data = []\n",
    "test_raw_data = None\n",
    "\n",
    "for idx in range(NB_CLIENTS):\n",
    "    raw_content = shuffle(pd.read_csv(DATA_PATH_PATTERN % (idx + 1)))\n",
    "    x_test, y_test = preprocessor(raw_content)\n",
    "    print(model.evaluate(x_test, y_test))"
   ]
  }
 ],
 "metadata": {
  "kernelspec": {
   "display_name": "Python 3 (ipykernel)",
   "language": "python",
   "name": "python3"
  },
  "language_info": {
   "codemirror_mode": {
    "name": "ipython",
    "version": 3
   },
   "file_extension": ".py",
   "mimetype": "text/x-python",
   "name": "python",
   "nbconvert_exporter": "python",
   "pygments_lexer": "ipython3",
   "version": "3.10.9"
  }
 },
 "nbformat": 4,
 "nbformat_minor": 5
}
