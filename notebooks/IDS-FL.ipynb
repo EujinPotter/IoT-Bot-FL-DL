{
 "cells": [
  {
   "cell_type": "code",
   "execution_count": 1,
   "metadata": {
    "pycharm": {
     "is_executing": true
    }
   },
   "outputs": [
    {
     "name": "stderr",
     "output_type": "stream",
     "text": [
      "2023-04-24 03:50:27.250075: I tensorflow/tsl/cuda/cudart_stub.cc:28] Could not find cuda drivers on your machine, GPU will not be used.\n",
      "2023-04-24 03:50:28.885912: I tensorflow/tsl/cuda/cudart_stub.cc:28] Could not find cuda drivers on your machine, GPU will not be used.\n",
      "2023-04-24 03:50:28.890983: I tensorflow/core/platform/cpu_feature_guard.cc:182] This TensorFlow binary is optimized to use available CPU instructions in performance-critical operations.\n",
      "To enable the following instructions: AVX2 FMA, in other operations, rebuild TensorFlow with the appropriate compiler flags.\n",
      "2023-04-24 03:50:32.632808: W tensorflow/compiler/tf2tensorrt/utils/py_utils.cc:38] TF-TRT Warning: Could not find TensorRT\n"
     ]
    }
   ],
   "source": [
    "import tensorflow as tf\n",
    "import tensorflow_federated as tff\n",
    "\n",
    "import numpy as np\n",
    "import pandas as pd\n",
    "import matplotlib.pyplot as plt"
   ]
  },
  {
   "cell_type": "code",
   "execution_count": 2,
   "metadata": {},
   "outputs": [],
   "source": [
    "import collections\n",
    "import time\n",
    "\n",
    "import seaborn as sns\n",
    "from sklearn.utils import shuffle\n",
    "from sklearn.preprocessing import StandardScaler, LabelEncoder\n",
    "from sklearn.model_selection import train_test_split\n",
    "from joblib import dump, load"
   ]
  },
  {
   "cell_type": "code",
   "execution_count": 3,
   "metadata": {},
   "outputs": [],
   "source": [
    "NB_CLIENTS = 9\n",
    "TEST_CLIENT = None\n",
    "\n",
    "DATA_PATH_PATTERN = \"../data/Device #%d.csv\"\n",
    "PRETRAINED_MODEL = \"../models/dl.h5\"\n",
    "\n",
    "WHOLE_CLASSES = ['benign', 'm_scan', 'm_ack', 'm_syn', 'm_udp', 'm_udpplain', 'g_combo', 'g_junk', 'g_scan', 'g_tcp', 'g_udp']\n",
    "BINARY_MODE = False\n",
    "BATCH_SIZE = 64\n",
    "NB_CLASSES = len(WHOLE_CLASSES)\n",
    "NB_EPOCHES = 1\n",
    "NB_ROUNDS = 20\n",
    "MX_RECORDS = 100000"
   ]
  },
  {
   "cell_type": "code",
   "execution_count": 4,
   "metadata": {},
   "outputs": [],
   "source": [
    "global le, sc\n",
    "sc = load('../models/std_scaler.bin')\n",
    "le = load('../models/lab_encoder.bin')\n",
    "\n",
    "\n",
    "def preprocessor(_client_data: pd.DataFrame):\n",
    "    global sc, le\n",
    "    _client_data = shuffle(_client_data)\n",
    "    _x = _client_data.drop([\"type\"], axis=1)\n",
    "    _y = _client_data[\"type\"]\n",
    "    _x = sc.transform(_x)\n",
    "    \n",
    "    if le is None:\n",
    "        le = LabelEncoder()\n",
    "        le.fit(WHOLE_CLASSES)\n",
    "    \n",
    "    if BINARY_MODE:\n",
    "        _y = (_y == \"benign\").astype(int)\n",
    "    else:\n",
    "        _y = le.transform(_y)\n",
    "        _y = tf.keras.utils.to_categorical(_y, num_classes=NB_CLASSES)\n",
    "        \n",
    "    return _x, _y\n",
    "\n",
    "\n",
    "def make_dataset(_x, _y):\n",
    "    return tf.data.Dataset.from_tensor_slices(\n",
    "        collections.OrderedDict(\n",
    "            x=tf.constant(_x),\n",
    "            y=tf.constant(_y)\n",
    "        )\n",
    "    )\n",
    "\n",
    "\n",
    "def client_data(_x, _y):\n",
    "    indicies = np.random.randint(len(_x), size=MX_RECORDS)\n",
    "    _client_data = make_dataset(_x[indicies], _y[indicies])\n",
    "    return _client_data.shuffle(MX_RECORDS).batch(BATCH_SIZE).repeat(NB_EPOCHES)"
   ]
  },
  {
   "cell_type": "code",
   "execution_count": 5,
   "metadata": {},
   "outputs": [
    {
     "name": "stderr",
     "output_type": "stream",
     "text": [
      "/opt/Anaconda310/lib/python3.10/site-packages/sklearn/base.py:413: UserWarning: X has feature names, but StandardScaler was fitted without feature names\n",
      "  warnings.warn(\n",
      "/opt/Anaconda310/lib/python3.10/site-packages/sklearn/base.py:413: UserWarning: X has feature names, but StandardScaler was fitted without feature names\n",
      "  warnings.warn(\n",
      "/opt/Anaconda310/lib/python3.10/site-packages/sklearn/base.py:413: UserWarning: X has feature names, but StandardScaler was fitted without feature names\n",
      "  warnings.warn(\n",
      "/opt/Anaconda310/lib/python3.10/site-packages/sklearn/base.py:413: UserWarning: X has feature names, but StandardScaler was fitted without feature names\n",
      "  warnings.warn(\n",
      "/opt/Anaconda310/lib/python3.10/site-packages/sklearn/base.py:413: UserWarning: X has feature names, but StandardScaler was fitted without feature names\n",
      "  warnings.warn(\n",
      "/opt/Anaconda310/lib/python3.10/site-packages/sklearn/base.py:413: UserWarning: X has feature names, but StandardScaler was fitted without feature names\n",
      "  warnings.warn(\n",
      "/opt/Anaconda310/lib/python3.10/site-packages/sklearn/base.py:413: UserWarning: X has feature names, but StandardScaler was fitted without feature names\n",
      "  warnings.warn(\n",
      "/opt/Anaconda310/lib/python3.10/site-packages/sklearn/base.py:413: UserWarning: X has feature names, but StandardScaler was fitted without feature names\n",
      "  warnings.warn(\n",
      "/opt/Anaconda310/lib/python3.10/site-packages/sklearn/base.py:413: UserWarning: X has feature names, but StandardScaler was fitted without feature names\n",
      "  warnings.warn(\n"
     ]
    }
   ],
   "source": [
    "global raw_clients_data, processed_data\n",
    "raw_clients_data = []\n",
    "processed_data = []\n",
    "test_raw_data = None\n",
    "\n",
    "for idx in range(NB_CLIENTS):\n",
    "    raw_content = shuffle(pd.read_csv(DATA_PATH_PATTERN % (idx + 1)))\n",
    "    \n",
    "    if TEST_CLIENT is not None:\n",
    "        if TEST_CLIENT == idx:\n",
    "            test_raw_data = raw_content\n",
    "            continue\n",
    "    else:\n",
    "        train_data, test_data = train_test_split(raw_content, test_size=0.2, random_state=101)\n",
    "\n",
    "        if test_raw_data is None:\n",
    "            test_raw_data = test_data\n",
    "        else:\n",
    "            test_raw_data = pd.concat([test_raw_data, test_data])\n",
    "        raw_content = train_data\n",
    "        \n",
    "    raw_clients_data.append(raw_content)\n",
    "    processed_data.append(preprocessor(raw_content))"
   ]
  },
  {
   "cell_type": "code",
   "execution_count": 6,
   "metadata": {},
   "outputs": [
    {
     "name": "stderr",
     "output_type": "stream",
     "text": [
      "/opt/Anaconda310/lib/python3.10/site-packages/sklearn/base.py:413: UserWarning: X has feature names, but StandardScaler was fitted without feature names\n",
      "  warnings.warn(\n"
     ]
    }
   ],
   "source": [
    "train_client_data = [client_data(*data) for data in processed_data]\n",
    "element_spec = train_client_data[0].element_spec\n",
    "\n",
    "test_x, test_y = preprocessor(test_raw_data)"
   ]
  },
  {
   "cell_type": "code",
   "execution_count": 7,
   "metadata": {},
   "outputs": [],
   "source": [
    "def create_model():\n",
    "    model = tf.keras.models.Sequential([\n",
    "        tf.keras.layers.Dense(64, input_dim = 116),\n",
    "        tf.keras.layers.GroupNormalization(),\n",
    "#         tf.keras.layers.BatchNormalization(synchronized=True, input_dim=116),\n",
    "#         tf.keras.layers.Dense(64, activation=\"relu\"),\n",
    "        tf.keras.layers.Dense(64),\n",
    "        tf.keras.layers.LeakyReLU(alpha=0.05),\n",
    "        tf.keras.layers.Dense(32),\n",
    "        tf.keras.layers.LeakyReLU(alpha=0.05),\n",
    "        tf.keras.layers.Dense(32),\n",
    "        tf.keras.layers.LeakyReLU(alpha=0.05),\n",
    "        tf.keras.layers.Dense(NB_CLASSES, activation = \"softmax\")\n",
    "    ])\n",
    "    model.load_weights(PRETRAINED_MODEL)\n",
    "    return model\n",
    "\n",
    "def model_fn():\n",
    "    model = create_model()\n",
    "    return tff.learning.models.from_keras_model(\n",
    "        model,\n",
    "        input_spec=element_spec,\n",
    "        loss=tf.keras.losses.CategoricalCrossentropy(),\n",
    "        metrics=[\n",
    "            tf.keras.metrics.CategoricalAccuracy()\n",
    "        ]\n",
    "    )"
   ]
  },
  {
   "cell_type": "code",
   "execution_count": 8,
   "metadata": {},
   "outputs": [
    {
     "name": "stderr",
     "output_type": "stream",
     "text": [
      "2023-04-24 03:52:28.368048: I tensorflow/compiler/mlir/mlir_graph_optimization_pass.cc:353] MLIR V1 optimization pass is not enabled\n",
      "2023-04-24 03:52:28.578033: W tensorflow/c/c_api.cc:300] Operation '{name:'dense_4/kernel/Assign' id:169 op device:{requested: '', assigned: ''} def:{{{node dense_4/kernel/Assign}} = AssignVariableOp[_has_manual_control_dependencies=true, dtype=DT_FLOAT, validate_shape=false](dense_4/kernel, dense_4/kernel/Initializer/stateless_random_uniform)}}' was changed by setting attribute after it was run by a session. This mutation will have no effect, and will trigger an error in the future. Either don't modify nodes after running them or create a new session.\n",
      "2023-04-24 03:52:28.872158: W tensorflow/c/c_api.cc:300] Operation '{name:'group_normalization/beta/Assign' id:34 op device:{requested: '', assigned: ''} def:{{{node group_normalization/beta/Assign}} = AssignVariableOp[_has_manual_control_dependencies=true, dtype=DT_FLOAT, validate_shape=false](group_normalization/beta, group_normalization/beta/Initializer/zeros)}}' was changed by setting attribute after it was run by a session. This mutation will have no effect, and will trigger an error in the future. Either don't modify nodes after running them or create a new session.\n",
      "2023-04-24 03:52:29.345657: W tensorflow/c/c_api.cc:300] Operation '{name:'dense_4/bias/Assign' id:198 op device:{requested: '', assigned: ''} def:{{{node dense_4/bias/Assign}} = AssignVariableOp[_has_manual_control_dependencies=true, dtype=DT_FLOAT, validate_shape=false](dense_4/bias, dense_4/bias/Initializer/zeros)}}' was changed by setting attribute after it was run by a session. This mutation will have no effect, and will trigger an error in the future. Either don't modify nodes after running them or create a new session.\n",
      "2023-04-24 03:52:30.188318: I tensorflow/core/common_runtime/executor.cc:1197] [/device:CPU:0] (DEBUG INFO) Executor start aborting (this does not indicate an error and you can ignore this message): INVALID_ARGUMENT: You must feed a value for placeholder tensor 'gradients/StatefulPartitionedCall_grad/StatefulPartitionedCall_12' with dtype float and shape [?,32,2]\n",
      "\t [[{{node gradients/StatefulPartitionedCall_grad/StatefulPartitionedCall_12}}]]\n",
      "2023-04-24 03:52:30.188394: I tensorflow/core/common_runtime/executor.cc:1197] [/device:CPU:0] (DEBUG INFO) Executor start aborting (this does not indicate an error and you can ignore this message): INVALID_ARGUMENT: You must feed a value for placeholder tensor 'gradients/StatefulPartitionedCall_grad/StatefulPartitionedCall_13' with dtype float and shape [?,32,2]\n",
      "\t [[{{node gradients/StatefulPartitionedCall_grad/StatefulPartitionedCall_13}}]]\n",
      "2023-04-24 03:52:30.188475: I tensorflow/core/common_runtime/executor.cc:1197] [/device:CPU:0] (DEBUG INFO) Executor start aborting (this does not indicate an error and you can ignore this message): INVALID_ARGUMENT: You must feed a value for placeholder tensor 'gradients/StatefulPartitionedCall_grad/StatefulPartitionedCall_14' with dtype float and shape [?,32,2]\n",
      "\t [[{{node gradients/StatefulPartitionedCall_grad/StatefulPartitionedCall_14}}]]\n",
      "2023-04-24 03:52:30.188529: I tensorflow/core/common_runtime/executor.cc:1197] [/device:CPU:0] (DEBUG INFO) Executor start aborting (this does not indicate an error and you can ignore this message): INVALID_ARGUMENT: You must feed a value for placeholder tensor 'gradients/StatefulPartitionedCall_grad/StatefulPartitionedCall_15' with dtype float and shape [?,32,2]\n",
      "\t [[{{node gradients/StatefulPartitionedCall_grad/StatefulPartitionedCall_15}}]]\n",
      "2023-04-24 03:52:30.188581: I tensorflow/core/common_runtime/executor.cc:1197] [/device:CPU:0] (DEBUG INFO) Executor start aborting (this does not indicate an error and you can ignore this message): INVALID_ARGUMENT: You must feed a value for placeholder tensor 'gradients/StatefulPartitionedCall_grad/StatefulPartitionedCall_16' with dtype float and shape [?,32,2]\n",
      "\t [[{{node gradients/StatefulPartitionedCall_grad/StatefulPartitionedCall_16}}]]\n",
      "2023-04-24 03:52:30.188635: I tensorflow/core/common_runtime/executor.cc:1197] [/device:CPU:0] (DEBUG INFO) Executor start aborting (this does not indicate an error and you can ignore this message): INVALID_ARGUMENT: You must feed a value for placeholder tensor 'gradients/StatefulPartitionedCall_grad/StatefulPartitionedCall_17' with dtype float and shape [32,2]\n",
      "\t [[{{node gradients/StatefulPartitionedCall_grad/StatefulPartitionedCall_17}}]]\n",
      "2023-04-24 03:52:30.188734: I tensorflow/core/common_runtime/executor.cc:1197] [/device:CPU:0] (DEBUG INFO) Executor start aborting (this does not indicate an error and you can ignore this message): INVALID_ARGUMENT: You must feed a value for placeholder tensor 'gradients/StatefulPartitionedCall_grad/StatefulPartitionedCall_18' with dtype float and shape [?,32,2]\n",
      "\t [[{{node gradients/StatefulPartitionedCall_grad/StatefulPartitionedCall_18}}]]\n",
      "2023-04-24 03:52:30.188830: I tensorflow/core/common_runtime/executor.cc:1197] [/device:CPU:0] (DEBUG INFO) Executor start aborting (this does not indicate an error and you can ignore this message): INVALID_ARGUMENT: You must feed a value for placeholder tensor 'gradients/StatefulPartitionedCall_grad/StatefulPartitionedCall_19' with dtype float and shape [?,32,1]\n",
      "\t [[{{node gradients/StatefulPartitionedCall_grad/StatefulPartitionedCall_19}}]]\n",
      "2023-04-24 03:52:30.188882: I tensorflow/core/common_runtime/executor.cc:1197] [/device:CPU:0] (DEBUG INFO) Executor start aborting (this does not indicate an error and you can ignore this message): INVALID_ARGUMENT: You must feed a value for placeholder tensor 'gradients/StatefulPartitionedCall_grad/StatefulPartitionedCall_20' with dtype float and shape [?,32,1]\n",
      "\t [[{{node gradients/StatefulPartitionedCall_grad/StatefulPartitionedCall_20}}]]\n",
      "2023-04-24 03:52:30.188932: I tensorflow/core/common_runtime/executor.cc:1197] [/device:CPU:0] (DEBUG INFO) Executor start aborting (this does not indicate an error and you can ignore this message): INVALID_ARGUMENT: You must feed a value for placeholder tensor 'gradients/StatefulPartitionedCall_grad/StatefulPartitionedCall_21' with dtype float and shape [32,2]\n",
      "\t [[{{node gradients/StatefulPartitionedCall_grad/StatefulPartitionedCall_21}}]]\n",
      "2023-04-24 03:52:30.188981: I tensorflow/core/common_runtime/executor.cc:1197] [/device:CPU:0] (DEBUG INFO) Executor start aborting (this does not indicate an error and you can ignore this message): INVALID_ARGUMENT: You must feed a value for placeholder tensor 'gradients/StatefulPartitionedCall_grad/StatefulPartitionedCall_22' with dtype float and shape [?,32,1]\n",
      "\t [[{{node gradients/StatefulPartitionedCall_grad/StatefulPartitionedCall_22}}]]\n",
      "2023-04-24 03:52:30.189031: I tensorflow/core/common_runtime/executor.cc:1197] [/device:CPU:0] (DEBUG INFO) Executor start aborting (this does not indicate an error and you can ignore this message): INVALID_ARGUMENT: You must feed a value for placeholder tensor 'gradients/StatefulPartitionedCall_grad/StatefulPartitionedCall_23' with dtype float\n",
      "\t [[{{node gradients/StatefulPartitionedCall_grad/StatefulPartitionedCall_23}}]]\n",
      "2023-04-24 03:52:30.189082: I tensorflow/core/common_runtime/executor.cc:1197] [/device:CPU:0] (DEBUG INFO) Executor start aborting (this does not indicate an error and you can ignore this message): INVALID_ARGUMENT: You must feed a value for placeholder tensor 'gradients/StatefulPartitionedCall_grad/StatefulPartitionedCall_24' with dtype float and shape [?,32,2]\n",
      "\t [[{{node gradients/StatefulPartitionedCall_grad/StatefulPartitionedCall_24}}]]\n",
      "2023-04-24 03:52:30.189132: I tensorflow/core/common_runtime/executor.cc:1197] [/device:CPU:0] (DEBUG INFO) Executor start aborting (this does not indicate an error and you can ignore this message): INVALID_ARGUMENT: You must feed a value for placeholder tensor 'gradients/StatefulPartitionedCall_grad/StatefulPartitionedCall_25' with dtype float and shape [?,32,1]\n",
      "\t [[{{node gradients/StatefulPartitionedCall_grad/StatefulPartitionedCall_25}}]]\n",
      "2023-04-24 03:52:30.189182: I tensorflow/core/common_runtime/executor.cc:1197] [/device:CPU:0] (DEBUG INFO) Executor start aborting (this does not indicate an error and you can ignore this message): INVALID_ARGUMENT: You must feed a value for placeholder tensor 'gradients/StatefulPartitionedCall_grad/StatefulPartitionedCall_26' with dtype float and shape [?,64]\n",
      "\t [[{{node gradients/StatefulPartitionedCall_grad/StatefulPartitionedCall_26}}]]\n"
     ]
    }
   ],
   "source": [
    "trainer = tff.learning.algorithms.build_weighted_fed_avg(\n",
    "    model_fn, client_optimizer_fn=lambda: tf.keras.optimizers.RMSprop()\n",
    ")"
   ]
  },
  {
   "cell_type": "code",
   "execution_count": 9,
   "metadata": {},
   "outputs": [],
   "source": [
    "evaluation = create_model()\n",
    "evaluation.compile(tf.keras.optimizers.RMSprop(), 'binary_crossentropy', metrics=['acc'])\n",
    "pretrained_weights = evaluation.get_weights()"
   ]
  },
  {
   "cell_type": "code",
   "execution_count": 10,
   "metadata": {},
   "outputs": [],
   "source": [
    "def evaluate(nb_rounds=NB_ROUNDS):\n",
    "    state = trainer.initialize()\n",
    "    state = trainer.set_model_weights(state, tff.learning.models.ModelWeights(pretrained_weights, []))\n",
    "    history = []\n",
    "    \n",
    "    for _ in range(nb_rounds):\n",
    "        start_t = time.time()\n",
    "        train_client_data = [client_data(*data) for data in processed_data]\n",
    "        state, metrics = trainer.next(state, train_client_data)\n",
    "        history.append(metrics['client_work']['train'])\n",
    "        train_metrics = metrics['client_work']['train']\n",
    "        end_t = time.time()\n",
    "        print('train metrics {m}, round time {t:.2f} seconds'.format(m=train_metrics, t=(end_t - start_t)))\n",
    "        evaluation.set_weights(trainer.get_model_weights(state).trainable)\n",
    "#         evaluation.evaluate(test_x, test_y)\n",
    "        \n",
    "    return state, history"
   ]
  },
  {
   "cell_type": "code",
   "execution_count": 11,
   "metadata": {
    "scrolled": false
   },
   "outputs": [
    {
     "name": "stderr",
     "output_type": "stream",
     "text": [
      "2023-04-24 03:52:31.810606: I tensorflow/core/grappler/devices.cc:66] Number of eligible GPUs (core count >= 8, compute capability >= 0.0): 0\n",
      "2023-04-24 03:52:31.815423: I tensorflow/core/grappler/clusters/single_machine.cc:358] Starting new session\n",
      "2023-04-24 03:52:31.903785: I tensorflow/core/grappler/devices.cc:66] Number of eligible GPUs (core count >= 8, compute capability >= 0.0): 0\n",
      "2023-04-24 03:52:31.903833: I tensorflow/core/grappler/clusters/single_machine.cc:358] Starting new session\n",
      "2023-04-24 03:52:33.469435: I tensorflow/core/grappler/devices.cc:66] Number of eligible GPUs (core count >= 8, compute capability >= 0.0): 0\n",
      "2023-04-24 03:52:33.469508: I tensorflow/core/grappler/clusters/single_machine.cc:358] Starting new session\n",
      "2023-04-24 03:52:35.068428: I tensorflow/core/grappler/devices.cc:66] Number of eligible GPUs (core count >= 8, compute capability >= 0.0): 0\n",
      "2023-04-24 03:52:35.068534: I tensorflow/core/grappler/clusters/single_machine.cc:358] Starting new session\n",
      "2023-04-24 03:52:35.198328: I tensorflow/core/grappler/devices.cc:66] Number of eligible GPUs (core count >= 8, compute capability >= 0.0): 0\n",
      "2023-04-24 03:52:35.198374: I tensorflow/core/grappler/clusters/single_machine.cc:358] Starting new session\n",
      "2023-04-24 03:52:35.203699: I tensorflow/core/grappler/devices.cc:66] Number of eligible GPUs (core count >= 8, compute capability >= 0.0): 0\n",
      "2023-04-24 03:52:35.203738: I tensorflow/core/grappler/clusters/single_machine.cc:358] Starting new session\n",
      "2023-04-24 03:52:35.210368: I tensorflow/core/grappler/devices.cc:66] Number of eligible GPUs (core count >= 8, compute capability >= 0.0): 0\n",
      "2023-04-24 03:52:35.210401: I tensorflow/core/grappler/clusters/single_machine.cc:358] Starting new session\n",
      "2023-04-24 03:52:35.219613: I tensorflow/core/grappler/devices.cc:66] Number of eligible GPUs (core count >= 8, compute capability >= 0.0): 0\n",
      "2023-04-24 03:52:35.219649: I tensorflow/core/grappler/clusters/single_machine.cc:358] Starting new session\n",
      "2023-04-24 03:52:35.233726: I tensorflow/core/grappler/devices.cc:66] Number of eligible GPUs (core count >= 8, compute capability >= 0.0): 0\n",
      "2023-04-24 03:52:35.233782: I tensorflow/core/grappler/clusters/single_machine.cc:358] Starting new session\n",
      "2023-04-24 03:52:35.241918: I tensorflow/core/grappler/devices.cc:66] Number of eligible GPUs (core count >= 8, compute capability >= 0.0): 0\n",
      "2023-04-24 03:52:35.241980: I tensorflow/core/grappler/clusters/single_machine.cc:358] Starting new session\n",
      "2023-04-24 03:52:35.249757: I tensorflow/core/grappler/devices.cc:66] Number of eligible GPUs (core count >= 8, compute capability >= 0.0): 0\n",
      "2023-04-24 03:52:35.249790: I tensorflow/core/grappler/clusters/single_machine.cc:358] Starting new session\n",
      "2023-04-24 03:52:35.260607: I tensorflow/core/grappler/devices.cc:66] Number of eligible GPUs (core count >= 8, compute capability >= 0.0): 0\n",
      "2023-04-24 03:52:35.260685: I tensorflow/core/grappler/clusters/single_machine.cc:358] Starting new session\n",
      "2023-04-24 03:52:35.268826: I tensorflow/core/grappler/devices.cc:66] Number of eligible GPUs (core count >= 8, compute capability >= 0.0): 0\n",
      "2023-04-24 03:52:35.268865: I tensorflow/core/grappler/clusters/single_machine.cc:358] Starting new session\n",
      "2023-04-24 03:52:35.270877: I tensorflow/core/grappler/devices.cc:66] Number of eligible GPUs (core count >= 8, compute capability >= 0.0): 0\n",
      "2023-04-24 03:52:35.270915: I tensorflow/core/grappler/clusters/single_machine.cc:358] Starting new session\n",
      "2023-04-24 03:52:35.274029: I tensorflow/core/grappler/devices.cc:66] Number of eligible GPUs (core count >= 8, compute capability >= 0.0): 0\n",
      "2023-04-24 03:52:35.274067: I tensorflow/core/grappler/clusters/single_machine.cc:358] Starting new session\n",
      "2023-04-24 03:52:35.279473: I tensorflow/core/grappler/devices.cc:66] Number of eligible GPUs (core count >= 8, compute capability >= 0.0): 0\n",
      "2023-04-24 03:52:35.279523: I tensorflow/core/grappler/clusters/single_machine.cc:358] Starting new session\n",
      "2023-04-24 03:52:35.309053: I tensorflow/core/grappler/devices.cc:66] Number of eligible GPUs (core count >= 8, compute capability >= 0.0): 0\n",
      "2023-04-24 03:52:35.309119: I tensorflow/core/grappler/clusters/single_machine.cc:358] Starting new session\n"
     ]
    },
    {
     "name": "stdout",
     "output_type": "stream",
     "text": [
      "train metrics OrderedDict([('categorical_accuracy', 0.9922789), ('loss', 0.037211593), ('num_examples', 900000), ('num_batches', 14067)]), round time 9.61 seconds\n"
     ]
    },
    {
     "name": "stderr",
     "output_type": "stream",
     "text": [
      "2023-04-24 03:52:43.134747: I tensorflow/core/grappler/devices.cc:66] Number of eligible GPUs (core count >= 8, compute capability >= 0.0): 0\n",
      "2023-04-24 03:52:43.134823: I tensorflow/core/grappler/clusters/single_machine.cc:358] Starting new session\n"
     ]
    },
    {
     "name": "stdout",
     "output_type": "stream",
     "text": [
      "train metrics OrderedDict([('categorical_accuracy', 0.99216664), ('loss', 0.039658356), ('num_examples', 900000), ('num_batches', 14067)]), round time 8.46 seconds\n",
      "train metrics OrderedDict([('categorical_accuracy', 0.9922411), ('loss', 0.039082184), ('num_examples', 900000), ('num_batches', 14067)]), round time 19.64 seconds\n",
      "train metrics OrderedDict([('categorical_accuracy', 0.9922011), ('loss', 0.0396495), ('num_examples', 900000), ('num_batches', 14067)]), round time 19.52 seconds\n",
      "train metrics OrderedDict([('categorical_accuracy', 0.9918733), ('loss', 0.044835288), ('num_examples', 900000), ('num_batches', 14067)]), round time 8.23 seconds\n",
      "train metrics OrderedDict([('categorical_accuracy', 0.9914467), ('loss', 0.051353436), ('num_examples', 900000), ('num_batches', 14067)]), round time 8.42 seconds\n",
      "train metrics OrderedDict([('categorical_accuracy', 0.99240446), ('loss', 0.04014657), ('num_examples', 900000), ('num_batches', 14067)]), round time 8.23 seconds\n",
      "train metrics OrderedDict([('categorical_accuracy', 0.9908978), ('loss', 0.06434754), ('num_examples', 900000), ('num_batches', 14067)]), round time 16.28 seconds\n",
      "train metrics OrderedDict([('categorical_accuracy', 0.9924244), ('loss', 0.038750876), ('num_examples', 900000), ('num_batches', 14067)]), round time 8.26 seconds\n",
      "train metrics OrderedDict([('categorical_accuracy', 0.9890233), ('loss', 0.09333706), ('num_examples', 900000), ('num_batches', 14067)]), round time 8.25 seconds\n",
      "train metrics OrderedDict([('categorical_accuracy', 0.9899333), ('loss', 0.0775669), ('num_examples', 900000), ('num_batches', 14067)]), round time 8.16 seconds\n",
      "train metrics OrderedDict([('categorical_accuracy', 0.9908978), ('loss', 0.0609627), ('num_examples', 900000), ('num_batches', 14067)]), round time 11.71 seconds\n",
      "train metrics OrderedDict([('categorical_accuracy', 0.9922011), ('loss', 0.042801406), ('num_examples', 900000), ('num_batches', 14067)]), round time 8.20 seconds\n",
      "train metrics OrderedDict([('categorical_accuracy', 0.9919622), ('loss', 0.04421697), ('num_examples', 900000), ('num_batches', 14067)]), round time 8.39 seconds\n",
      "train metrics OrderedDict([('categorical_accuracy', 0.9921067), ('loss', 0.04426846), ('num_examples', 900000), ('num_batches', 14067)]), round time 8.09 seconds\n",
      "train metrics OrderedDict([('categorical_accuracy', 0.99191666), ('loss', 0.046271723), ('num_examples', 900000), ('num_batches', 14067)]), round time 9.72 seconds\n",
      "train metrics OrderedDict([('categorical_accuracy', 0.99158335), ('loss', 0.050558984), ('num_examples', 900000), ('num_batches', 14067)]), round time 8.31 seconds\n",
      "train metrics OrderedDict([('categorical_accuracy', 0.9924856), ('loss', 0.04012875), ('num_examples', 900000), ('num_batches', 14067)]), round time 8.34 seconds\n",
      "train metrics OrderedDict([('categorical_accuracy', 0.99227333), ('loss', 0.04672643), ('num_examples', 900000), ('num_batches', 14067)]), round time 8.28 seconds\n",
      "train metrics OrderedDict([('categorical_accuracy', 0.9926789), ('loss', 0.04184694), ('num_examples', 900000), ('num_batches', 14067)]), round time 9.70 seconds\n"
     ]
    }
   ],
   "source": [
    "state, history = evaluate()"
   ]
  },
  {
   "cell_type": "code",
   "execution_count": 12,
   "metadata": {},
   "outputs": [
    {
     "name": "stderr",
     "output_type": "stream",
     "text": [
      "2023-04-24 03:55:58.733884: W tensorflow/tsl/framework/cpu_allocator_impl.cc:83] Allocation of 614932240 exceeds 10% of free system memory.\n"
     ]
    },
    {
     "name": "stdout",
     "output_type": "stream",
     "text": [
      "41416/41416 [==============================] - 26s 539us/step - loss: 18.9362 - acc: 0.9019\n"
     ]
    }
   ],
   "source": [
    "evaluation.set_weights(trainer.get_model_weights(state).trainable)\n",
    "loss, acc = evaluation.evaluate(test_x, test_y)"
   ]
  },
  {
   "cell_type": "code",
   "execution_count": 13,
   "metadata": {},
   "outputs": [
    {
     "name": "stdout",
     "output_type": "stream",
     "text": [
      "Test Accuracy: 0.9018686413764954\n"
     ]
    }
   ],
   "source": [
    "print(f'Test Accuracy: { acc }')"
   ]
  },
  {
   "cell_type": "code",
   "execution_count": 14,
   "metadata": {},
   "outputs": [
    {
     "name": "stdout",
     "output_type": "stream",
     "text": [
      "\r",
      "    1/41416 [..............................] - ETA: 1:26:34"
     ]
    },
    {
     "name": "stderr",
     "output_type": "stream",
     "text": [
      "2023-04-24 03:56:27.716976: W tensorflow/tsl/framework/cpu_allocator_impl.cc:83] Allocation of 614932240 exceeds 10% of free system memory.\n"
     ]
    },
    {
     "name": "stdout",
     "output_type": "stream",
     "text": [
      "41416/41416 [==============================] - 20s 474us/step\n"
     ]
    }
   ],
   "source": [
    "pred_y = evaluation.predict(test_x)\n",
    "roc_matrix = np.zeros((NB_CLASSES, NB_CLASSES))\n",
    "\n",
    "for corr, pred in zip(test_y, pred_y):\n",
    "    corr_idx = np.argmax(corr)\n",
    "    pred_idx = np.argmax(pred)\n",
    "    roc_matrix[pred_idx][corr_idx] += 1"
   ]
  },
  {
   "cell_type": "code",
   "execution_count": 15,
   "metadata": {},
   "outputs": [
    {
     "data": {
      "text/plain": [
       "<Axes: >"
      ]
     },
     "execution_count": 15,
     "metadata": {},
     "output_type": "execute_result"
    },
    {
     "data": {
      "image/png": "[encoded data removed]",
      "text/plain": [
       "<Figure size 640x480 with 2 Axes>"
      ]
     },
     "metadata": {},
     "output_type": "display_data"
    }
   ],
   "source": [
    "plt.figure()\n",
    "sns.heatmap(roc_matrix)"
   ]
  }
 ],
 "metadata": {
  "kernelspec": {
   "display_name": "Python 3 (ipykernel)",
   "language": "python",
   "name": "python3"
  },
  "language_info": {
   "codemirror_mode": {
    "name": "ipython",
    "version": 3
   },
   "file_extension": ".py",
   "mimetype": "text/x-python",
   "name": "python",
   "nbconvert_exporter": "python",
   "pygments_lexer": "ipython3",
   "version": "3.10.9"
  }
 },
 "nbformat": 4,
 "nbformat_minor": 1
}
