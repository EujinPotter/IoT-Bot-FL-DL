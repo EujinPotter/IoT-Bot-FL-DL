{
 "cells": [
  {
   "cell_type": "code",
   "execution_count": 1,
   "id": "cae0993d",
   "metadata": {},
   "outputs": [
    {
     "name": "stderr",
     "output_type": "stream",
     "text": [
      "2023-04-23 22:36:51.500989: I tensorflow/tsl/cuda/cudart_stub.cc:28] Could not find cuda drivers on your machine, GPU will not be used.\n",
      "2023-04-23 22:36:51.528437: I tensorflow/tsl/cuda/cudart_stub.cc:28] Could not find cuda drivers on your machine, GPU will not be used.\n",
      "2023-04-23 22:36:51.528691: I tensorflow/core/platform/cpu_feature_guard.cc:182] This TensorFlow binary is optimized to use available CPU instructions in performance-critical operations.\n",
      "To enable the following instructions: AVX2 FMA, in other operations, rebuild TensorFlow with the appropriate compiler flags.\n",
      "2023-04-23 22:36:52.089740: W tensorflow/compiler/tf2tensorrt/utils/py_utils.cc:38] TF-TRT Warning: Could not find TensorRT\n"
     ]
    }
   ],
   "source": [
    "import tensorflow as tf"
   ]
  },
  {
   "cell_type": "code",
   "execution_count": 2,
   "id": "515a98cf",
   "metadata": {},
   "outputs": [],
   "source": [
    "import numpy as np\n",
    "import pandas as pd\n",
    "from sklearn.utils import shuffle\n",
    "from sklearn.preprocessing import StandardScaler, LabelEncoder\n",
    "from joblib import dump, load"
   ]
  },
  {
   "cell_type": "code",
   "execution_count": 3,
   "id": "98d67384",
   "metadata": {},
   "outputs": [],
   "source": [
    "NB_CLIENTS = 9\n",
    "TEST_CLIENT = None\n",
    "\n",
    "DATA_PATH_PATTERN = \"../data/Device #%d.csv\"\n",
    "PRETRAINED_MODEL = \"../models/dl.h5\"\n",
    "\n",
    "WHOLE_CLASSES = ['benign', 'm_scan', 'm_ack', 'm_syn', 'm_udp', 'm_udpplain', 'g_combo', 'g_junk', 'g_scan', 'g_tcp', 'g_udp']\n",
    "BINARY_MODE = False\n",
    "BATCH_SIZE = 64\n",
    "NB_CLASSES = len(WHOLE_CLASSES)\n",
    "NB_EPOCHES = 1\n",
    "NB_ROUNDS = 100\n",
    "MX_RECORDS = 100000"
   ]
  },
  {
   "cell_type": "code",
   "execution_count": 4,
   "id": "6c5887ba",
   "metadata": {},
   "outputs": [],
   "source": [
    "global le, sc\n",
    "\n",
    "sc = load('../models/std_scaler.bin')\n",
    "le = load('../models/lab_encoder.bin')\n",
    "\n",
    "\n",
    "def preprocessor(_client_data: pd.DataFrame):\n",
    "    global sc, le\n",
    "    _client_data = shuffle(_client_data)\n",
    "    _x = _client_data.drop([\"type\"], axis=1)\n",
    "    _y = _client_data[\"type\"]\n",
    "    _x = sc.transform(_x)\n",
    "    \n",
    "    if BINARY_MODE:\n",
    "        _y = (_y == \"benign\").astype(int)\n",
    "    else:\n",
    "        _y = le.transform(_y)\n",
    "        _y = tf.keras.utils.to_categorical(_y, num_classes=NB_CLASSES)\n",
    "        \n",
    "    return _x, _y\n",
    "\n",
    "\n",
    "def make_dataset(_x, _y):\n",
    "    return tf.data.Dataset.from_tensor_slices(\n",
    "        collections.OrderedDict(\n",
    "            x=tf.constant(_x),\n",
    "            y=tf.constant(_y)\n",
    "        )\n",
    "    )\n",
    "\n",
    "\n",
    "def client_data(_x, _y):\n",
    "    _client_data = make_dataset(_x, _y)\n",
    "    return _client_data.shuffle(MX_RECORDS).batch(BATCH_SIZE).repeat(NB_EPOCHES)"
   ]
  },
  {
   "cell_type": "code",
   "execution_count": 5,
   "id": "7874cc9a",
   "metadata": {},
   "outputs": [],
   "source": [
    "def create_model():\n",
    "    model = tf.keras.models.Sequential([\n",
    "        tf.keras.layers.Dense(64, input_dim = 116),\n",
    "        tf.keras.layers.GroupNormalization(),\n",
    "#         tf.keras.layers.BatchNormalization(synchronized=True, input_dim=116),\n",
    "#         tf.keras.layers.Dense(64, activation=\"relu\"),\n",
    "        tf.keras.layers.Dense(64),\n",
    "        tf.keras.layers.LeakyReLU(alpha=0.05),\n",
    "        tf.keras.layers.Dense(32),\n",
    "        tf.keras.layers.LeakyReLU(alpha=0.05),\n",
    "        tf.keras.layers.Dense(32),\n",
    "        tf.keras.layers.LeakyReLU(alpha=0.05),\n",
    "        tf.keras.layers.Dense(NB_CLASSES, activation = \"softmax\")\n",
    "    ])\n",
    "    model.compile('rmsprop', 'categorical_crossentropy', metrics=['acc'])\n",
    "    model.load_weights(PRETRAINED_MODEL)\n",
    "    return model"
   ]
  },
  {
   "cell_type": "code",
   "execution_count": 6,
   "id": "460c6544",
   "metadata": {},
   "outputs": [],
   "source": [
    "model = create_model()"
   ]
  },
  {
   "cell_type": "code",
   "execution_count": 7,
   "id": "d9817e8b",
   "metadata": {},
   "outputs": [
    {
     "name": "stderr",
     "output_type": "stream",
     "text": [
      "/opt/Anaconda310/lib/python3.10/site-packages/sklearn/base.py:413: UserWarning: X has feature names, but StandardScaler was fitted without feature names\n",
      "  warnings.warn(\n"
     ]
    },
    {
     "name": "stdout",
     "output_type": "stream",
     "text": [
      "31822/31822 [==============================] - 17s 529us/step - loss: 0.1388 - acc: 0.9086\n",
      "[0.1387580931186676, 0.9085562229156494]\n"
     ]
    },
    {
     "name": "stderr",
     "output_type": "stream",
     "text": [
      "/opt/Anaconda310/lib/python3.10/site-packages/sklearn/base.py:413: UserWarning: X has feature names, but StandardScaler was fitted without feature names\n",
      "  warnings.warn(\n"
     ]
    },
    {
     "name": "stdout",
     "output_type": "stream",
     "text": [
      "26122/26122 [==============================] - 14s 535us/step - loss: 0.0560 - acc: 0.9938\n",
      "[0.055956874042749405, 0.9937741756439209]\n"
     ]
    },
    {
     "name": "stderr",
     "output_type": "stream",
     "text": [
      "/opt/Anaconda310/lib/python3.10/site-packages/sklearn/base.py:413: UserWarning: X has feature names, but StandardScaler was fitted without feature names\n",
      "  warnings.warn(\n"
     ]
    },
    {
     "name": "stdout",
     "output_type": "stream",
     "text": [
      "11110/11110 [==============================] - 6s 534us/step - loss: 0.1685 - acc: 0.9501\n",
      "[0.16851750016212463, 0.950056254863739]\n"
     ]
    },
    {
     "name": "stderr",
     "output_type": "stream",
     "text": [
      "/opt/Anaconda310/lib/python3.10/site-packages/sklearn/base.py:413: UserWarning: X has feature names, but StandardScaler was fitted without feature names\n",
      "  warnings.warn(\n"
     ]
    },
    {
     "name": "stdout",
     "output_type": "stream",
     "text": [
      "34334/34334 [==============================] - 19s 544us/step - loss: 0.0854 - acc: 0.9115\n",
      "[0.08537137508392334, 0.9115299582481384]\n"
     ]
    },
    {
     "name": "stderr",
     "output_type": "stream",
     "text": [
      "/opt/Anaconda310/lib/python3.10/site-packages/sklearn/base.py:413: UserWarning: X has feature names, but StandardScaler was fitted without feature names\n",
      "  warnings.warn(\n"
     ]
    },
    {
     "name": "stdout",
     "output_type": "stream",
     "text": [
      "25884/25884 [==============================] - 14s 547us/step - loss: 0.0539 - acc: 0.9928\n",
      "[0.053851205855607986, 0.9927570819854736]\n"
     ]
    },
    {
     "name": "stderr",
     "output_type": "stream",
     "text": [
      "/opt/Anaconda310/lib/python3.10/site-packages/sklearn/base.py:413: UserWarning: X has feature names, but StandardScaler was fitted without feature names\n",
      "  warnings.warn(\n"
     ]
    },
    {
     "name": "stdout",
     "output_type": "stream",
     "text": [
      "26153/26153 [==============================] - 14s 552us/step - loss: 0.0463 - acc: 0.9937\n",
      "[0.046319834887981415, 0.9937148094177246]\n"
     ]
    },
    {
     "name": "stderr",
     "output_type": "stream",
     "text": [
      "/opt/Anaconda310/lib/python3.10/site-packages/sklearn/base.py:413: UserWarning: X has feature names, but StandardScaler was fitted without feature names\n",
      "  warnings.warn(\n"
     ]
    },
    {
     "name": "stdout",
     "output_type": "stream",
     "text": [
      "11726/11726 [==============================] - 6s 530us/step - loss: 0.1555 - acc: 0.9880\n",
      "[0.15552304685115814, 0.9879751205444336]\n"
     ]
    },
    {
     "name": "stderr",
     "output_type": "stream",
     "text": [
      "/opt/Anaconda310/lib/python3.10/site-packages/sklearn/base.py:413: UserWarning: X has feature names, but StandardScaler was fitted without feature names\n",
      "  warnings.warn(\n"
     ]
    },
    {
     "name": "stdout",
     "output_type": "stream",
     "text": [
      "26971/26971 [==============================] - 15s 545us/step - loss: 0.1143 - acc: 0.9611\n",
      "[0.11430574953556061, 0.9611045122146606]\n"
     ]
    },
    {
     "name": "stderr",
     "output_type": "stream",
     "text": [
      "/opt/Anaconda310/lib/python3.10/site-packages/sklearn/base.py:413: UserWarning: X has feature names, but StandardScaler was fitted without feature names\n",
      "  warnings.warn(\n"
     ]
    },
    {
     "name": "stdout",
     "output_type": "stream",
     "text": [
      "12957/12957 [==============================] - 7s 538us/step - loss: 0.0112 - acc: 0.9987\n",
      "[0.01115789357572794, 0.9986566305160522]\n"
     ]
    }
   ],
   "source": [
    "raw_clients_data = []\n",
    "test_raw_data = None\n",
    "\n",
    "for idx in range(NB_CLIENTS):\n",
    "    raw_content = shuffle(pd.read_csv(DATA_PATH_PATTERN % (idx + 1)))\n",
    "    x_test, y_test = preprocessor(raw_content)\n",
    "    print(model.evaluate(x_test, y_test))"
   ]
  }
 ],
 "metadata": {
  "kernelspec": {
   "display_name": "Python 3 (ipykernel)",
   "language": "python",
   "name": "python3"
  },
  "language_info": {
   "codemirror_mode": {
    "name": "ipython",
    "version": 3
   },
   "file_extension": ".py",
   "mimetype": "text/x-python",
   "name": "python",
   "nbconvert_exporter": "python",
   "pygments_lexer": "ipython3",
   "version": "3.10.9"
  }
 },
 "nbformat": 4,
 "nbformat_minor": 5
}
